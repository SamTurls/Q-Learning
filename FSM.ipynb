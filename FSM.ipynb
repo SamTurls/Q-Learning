{
 "cells": [
  {
   "cell_type": "code",
   "execution_count": 24,
   "id": "d2749496",
   "metadata": {},
   "outputs": [],
   "source": [
    "import jax\n",
    "import jax.numpy as np"
   ]
  },
  {
   "cell_type": "code",
   "execution_count": 25,
   "id": "317113b7",
   "metadata": {},
   "outputs": [],
   "source": [
    "# The bird class\n",
    "\n",
    "class bird:\n",
    "    \n",
    "    def __init__(self):\n",
    "        self.x = 0\n",
    "        self.y = 0\n",
    "        self.orientation = 0\n",
    "        self.velocity = 0\n",
    "        \n",
    "        self.updated_x = 0\n",
    "        self.updated_y = 0\n",
    "        self.updated_orientation = 0\n",
    "        self.updated_velocity = 0\n",
    "        \n",
    "    def update(self, x, y, orientation, velocity):\n",
    "        \n",
    "        self.updated_x = x\n",
    "        self.updated_y = y\n",
    "        self.updated_orientation = orientation\n",
    "        self.updated_velocity = velocity\n",
    "        \n",
    "    def complete_update(self):\n",
    "        self.x = self.updated_x\n",
    "        self.y = self.updated_y\n",
    "        self.orientation = self.updated_orientation\n",
    "        self.velocity = self.updated_velocity  "
   ]
  },
  {
   "cell_type": "code",
   "execution_count": 28,
   "id": "779c7d7d",
   "metadata": {},
   "outputs": [],
   "source": [
    "# The model class\n",
    "\n",
    "class model:\n",
    "    \n",
    "    def __init__(self, N, t_max):\n",
    "        self.N = N\n",
    "        self.t_max = t_max\n",
    "        self.bird_list = [bird() for i in range(N)]\n",
    "        self.t = 0\n",
    "        \n",
    "    def set_inital_conditions(self):\n",
    "        for bird in self.bird_list:\n",
    "            bird.update(1,2,0,10)\n",
    "            bird.complete_update()\n",
    "            \n",
    "    def time_step(self):\n",
    "        for i in range(self.N):\n",
    "            a = self.generate_action(i)\n",
    "            \n",
    "            r = self.generate_reward(i, a)\n",
    "            \n",
    "              \n",
    "        for bird in self.bird_list:\n",
    "            bird.complete_update()\n",
    "            \n",
    "    def generate_action(self, i):\n",
    "        # select best action using epsilon-greedy\n",
    "        return\n",
    "                \n",
    "    def generate_reward(self, i, a):\n",
    "        self.generate_heuristic(i)\n",
    "        # use FSM to calculate the reward\n",
    "        return\n",
    "        \n",
    "    def run(self):\n",
    "        while self.t < self.t_max:\n",
    "            self.write_data()\n",
    "            self.time_step()\n",
    "            self.t += 1\n",
    "            \n",
    "    def write_data(self):\n",
    "        return\n",
    "        \n",
    "    "
   ]
  },
  {
   "cell_type": "code",
   "execution_count": 27,
   "id": "f63d3c0e",
   "metadata": {},
   "outputs": [
    {
     "name": "stdout",
     "output_type": "stream",
     "text": [
      "1\n"
     ]
    }
   ],
   "source": []
  },
  {
   "cell_type": "code",
   "execution_count": null,
   "id": "6536a8b9",
   "metadata": {},
   "outputs": [],
   "source": []
  }
 ],
 "metadata": {
  "kernelspec": {
   "display_name": "Python 3 (ipykernel)",
   "language": "python",
   "name": "python3"
  },
  "language_info": {
   "codemirror_mode": {
    "name": "ipython",
    "version": 3
   },
   "file_extension": ".py",
   "mimetype": "text/x-python",
   "name": "python",
   "nbconvert_exporter": "python",
   "pygments_lexer": "ipython3",
   "version": "3.9.12"
  }
 },
 "nbformat": 4,
 "nbformat_minor": 5
}
